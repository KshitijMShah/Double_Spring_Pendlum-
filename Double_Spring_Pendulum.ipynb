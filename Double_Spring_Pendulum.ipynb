{
  "nbformat": 4,
  "nbformat_minor": 0,
  "metadata": {
    "kernelspec": {
      "display_name": "Python 3",
      "language": "python",
      "name": "python3"
    },
    "language_info": {
      "codemirror_mode": {
        "name": "ipython",
        "version": 3
      },
      "file_extension": ".py",
      "mimetype": "text/x-python",
      "name": "python",
      "nbconvert_exporter": "python",
      "pygments_lexer": "ipython3",
      "version": "3.8.8"
    },
    "colab": {
      "name": "Double_Spring_Pendulum.ipynb",
      "provenance": []
    }
  },
  "cells": [
    {
      "cell_type": "code",
      "metadata": {
        "id": "HAZlhspHPQrK"
      },
      "source": [
        "import numpy as np\n",
        "import sympy as smp\n",
        "from scipy.integrate import odeint\n",
        "import matplotlib.pyplot as plt\n",
        "from matplotlib import animation\n",
        "from matplotlib.animation import PillowWriter"
      ],
      "execution_count": null,
      "outputs": []
    },
    {
      "cell_type": "markdown",
      "metadata": {
        "id": "cXW8y1FKPQrP"
      },
      "source": [
        "Define all necessary variables:\n",
        "\n",
        "* Time $t$\n",
        "* Mass of pendulums $m$ \n",
        "* Gravitational acceleration $g$\n",
        "* Spring constants $k$\n",
        "\n",
        "Then define the 4 free variables $\\theta_1$, $r_1$, $\\theta_2$, $r_2$\n",
        "\n",
        "1. Make them functions of time\n",
        "2. Define first derivatives\n",
        "3. Define second derivatives"
      ]
    },
    {
      "cell_type": "code",
      "metadata": {
        "id": "ue1aWix1PQrS"
      },
      "source": [
        "t, m, g, k = smp.symbols('t m g k')"
      ],
      "execution_count": null,
      "outputs": []
    },
    {
      "cell_type": "code",
      "metadata": {
        "id": "t8MZeKcMPQrT"
      },
      "source": [
        "the1, the2, r1, r2 = smp.symbols(r'\\theta_1, \\theta_2, r_1, r_2', cls=smp.Function)\n",
        "\n",
        "r1 = r1(t)\n",
        "r1_d = smp.diff(r1, t)\n",
        "r1_dd = smp.diff(smp.diff(r1, t), t)\n",
        "\n",
        "r2 = r2(t)\n",
        "r2_d = smp.diff(r2, t)\n",
        "r2_dd = smp.diff(smp.diff(r2, t), t)\n",
        "\n",
        "the1 = the1(t)\n",
        "the1_d = smp.diff(the1, t)\n",
        "the1_dd = smp.diff(the1_d, t)\n",
        "\n",
        "the2 = the2(t)\n",
        "the2_d = smp.diff(the2, t)\n",
        "the2_dd = smp.diff(smp.diff(the2, t), t)\n",
        "\n"
      ],
      "execution_count": null,
      "outputs": []
    },
    {
      "cell_type": "markdown",
      "metadata": {
        "id": "vOH6yhnlPQrT"
      },
      "source": [
        "Define cartesian coordinates of each bob\n",
        "\n",
        "* Bob 1: $(x_1, y_1)$\n",
        "* Bob 2: $(x_2, y_2)$\n",
        "\n",
        "Note these are functions of $\\theta_1$, $r_1$, $\\theta_2$, $r_2$"
      ]
    },
    {
      "cell_type": "code",
      "metadata": {
        "id": "SnNf4Nk8PQrU"
      },
      "source": [
        "x1, y1, x2, y2 = smp.symbols('x_1, y_1, x_2, y_2', cls=smp.Function)\n",
        "x1= x1(the1, r1)\n",
        "y1= y1(the1, r1)\n",
        "x2= x2(the1, r1, the2, r2)\n",
        "y2= y2(the1, r1, the2, r2)"
      ],
      "execution_count": null,
      "outputs": []
    },
    {
      "cell_type": "code",
      "metadata": {
        "id": "eJaTAH-HPQrU"
      },
      "source": [
        "x1 = (1+r1)*smp.cos(the1)\n",
        "y1 = -(1+r1)*smp.sin(the1)\n",
        "x2 = (1+r1)*smp.cos(the1) + (1+r2)*smp.cos(the2)\n",
        "y2 = -(1+r1)*smp.sin(the1)-(1+r2)*smp.sin(the2)"
      ],
      "execution_count": null,
      "outputs": []
    },
    {
      "cell_type": "markdown",
      "metadata": {
        "id": "tYWcXTHjPQrV"
      },
      "source": [
        "Define the Lagrangian\n",
        "\n",
        "$$ L = T - V $$\n",
        "\n",
        "where \n",
        "\n",
        "* T = $\\frac{1}{2}m(\\dot{x}_1^2 + \\dot{y}_1^2) + \\frac{1}{2}m(\\dot{x}_2^2 + \\dot{y}_2^2)$\n",
        "* V = $mgy_1 + mgy_2 + \\frac{1}{2}kr_1^2 + \\frac{1}{2}kr_2^2 $"
      ]
    },
    {
      "cell_type": "code",
      "metadata": {
        "id": "74amLyqUPQrV"
      },
      "source": [
        "T = 1/2 * m * (smp.diff(x1, t)**2 + smp.diff(y1, t)**2 + \\\n",
        "               smp.diff(x2, t)**2 + + smp.diff(y2, t)**2)\n",
        "V = m*g*y1 + m*g*y2 + 1/2 * k * r1**2 + 1/2 * k * r2**2\n",
        "L = T-V"
      ],
      "execution_count": null,
      "outputs": []
    },
    {
      "cell_type": "markdown",
      "metadata": {
        "id": "bYvnRZmnPQrW"
      },
      "source": [
        "Compute Lagrange's equations\n",
        "\n",
        "$\\frac{dL}{dz} - \\frac{d}{dt} \\frac{dL}{d\\dot{z}} = 0$\n",
        "\n",
        "where $z$ is each of $\\theta_1$, $r_1$, $\\theta_2$, $r_2$"
      ]
    },
    {
      "cell_type": "code",
      "metadata": {
        "id": "RP8pEbVHPQrW"
      },
      "source": [
        "LE1 = smp.diff(L, the1) - smp.diff(smp.diff(L, the1_d), t)\n",
        "LE1 = LE1.simplify()"
      ],
      "execution_count": null,
      "outputs": []
    },
    {
      "cell_type": "code",
      "metadata": {
        "id": "dtNe4v-WPQrW"
      },
      "source": [
        "LE2 = smp.diff(L, the2) - smp.diff(smp.diff(L, the2_d), t)\n",
        "LE2 = LE2.simplify()"
      ],
      "execution_count": null,
      "outputs": []
    },
    {
      "cell_type": "code",
      "metadata": {
        "id": "qyxR-r_5PQrX"
      },
      "source": [
        "LE3 = smp.diff(L, r1) - smp.diff(smp.diff(L, r1_d), t)\n",
        "LE3 = LE3.simplify()"
      ],
      "execution_count": null,
      "outputs": []
    },
    {
      "cell_type": "code",
      "metadata": {
        "id": "Fhp9HPmtPQrX"
      },
      "source": [
        "LE4 = smp.diff(L, r2) - smp.diff(smp.diff(L, r2_d), t)\n",
        "LE4 = LE4.simplify()"
      ],
      "execution_count": null,
      "outputs": []
    },
    {
      "cell_type": "code",
      "metadata": {
        "id": "5cEMzJUPPQrY",
        "colab": {
          "base_uri": "https://localhost:8080/",
          "height": 88
        },
        "outputId": "2ad6cc09-0327-4536-9aec-ce9f663b5e32"
      },
      "source": [
        "LE1"
      ],
      "execution_count": null,
      "outputs": [
        {
          "output_type": "execute_result",
          "data": {
            "text/latex": "$\\displaystyle m \\left(2.0 g \\operatorname{r_{1}}{\\left(t \\right)} \\cos{\\left(\\theta_{1}{\\left(t \\right)} \\right)} + 2.0 g \\cos{\\left(\\theta_{1}{\\left(t \\right)} \\right)} - 2.0 \\operatorname{r_{1}}^{2}{\\left(t \\right)} \\frac{d^{2}}{d t^{2}} \\theta_{1}{\\left(t \\right)} - 1.0 \\operatorname{r_{1}}{\\left(t \\right)} \\operatorname{r_{2}}{\\left(t \\right)} \\sin{\\left(\\theta_{1}{\\left(t \\right)} - \\theta_{2}{\\left(t \\right)} \\right)} \\left(\\frac{d}{d t} \\theta_{2}{\\left(t \\right)}\\right)^{2} - 1.0 \\operatorname{r_{1}}{\\left(t \\right)} \\operatorname{r_{2}}{\\left(t \\right)} \\cos{\\left(\\theta_{1}{\\left(t \\right)} - \\theta_{2}{\\left(t \\right)} \\right)} \\frac{d^{2}}{d t^{2}} \\theta_{2}{\\left(t \\right)} - 1.0 \\operatorname{r_{1}}{\\left(t \\right)} \\sin{\\left(\\theta_{1}{\\left(t \\right)} - \\theta_{2}{\\left(t \\right)} \\right)} \\left(\\frac{d}{d t} \\theta_{2}{\\left(t \\right)}\\right)^{2} + 1.0 \\operatorname{r_{1}}{\\left(t \\right)} \\sin{\\left(\\theta_{1}{\\left(t \\right)} - \\theta_{2}{\\left(t \\right)} \\right)} \\frac{d^{2}}{d t^{2}} \\operatorname{r_{2}}{\\left(t \\right)} - 2.0 \\operatorname{r_{1}}{\\left(t \\right)} \\cos{\\left(\\theta_{1}{\\left(t \\right)} - \\theta_{2}{\\left(t \\right)} \\right)} \\frac{d}{d t} \\theta_{2}{\\left(t \\right)} \\frac{d}{d t} \\operatorname{r_{2}}{\\left(t \\right)} - 1.0 \\operatorname{r_{1}}{\\left(t \\right)} \\cos{\\left(\\theta_{1}{\\left(t \\right)} - \\theta_{2}{\\left(t \\right)} \\right)} \\frac{d^{2}}{d t^{2}} \\theta_{2}{\\left(t \\right)} - 4.0 \\operatorname{r_{1}}{\\left(t \\right)} \\frac{d}{d t} \\theta_{1}{\\left(t \\right)} \\frac{d}{d t} \\operatorname{r_{1}}{\\left(t \\right)} - 4.0 \\operatorname{r_{1}}{\\left(t \\right)} \\frac{d^{2}}{d t^{2}} \\theta_{1}{\\left(t \\right)} - 1.0 \\operatorname{r_{2}}{\\left(t \\right)} \\sin{\\left(\\theta_{1}{\\left(t \\right)} - \\theta_{2}{\\left(t \\right)} \\right)} \\left(\\frac{d}{d t} \\theta_{2}{\\left(t \\right)}\\right)^{2} - 1.0 \\operatorname{r_{2}}{\\left(t \\right)} \\cos{\\left(\\theta_{1}{\\left(t \\right)} - \\theta_{2}{\\left(t \\right)} \\right)} \\frac{d^{2}}{d t^{2}} \\theta_{2}{\\left(t \\right)} - 1.0 \\sin{\\left(\\theta_{1}{\\left(t \\right)} - \\theta_{2}{\\left(t \\right)} \\right)} \\left(\\frac{d}{d t} \\theta_{2}{\\left(t \\right)}\\right)^{2} + 1.0 \\sin{\\left(\\theta_{1}{\\left(t \\right)} - \\theta_{2}{\\left(t \\right)} \\right)} \\frac{d^{2}}{d t^{2}} \\operatorname{r_{2}}{\\left(t \\right)} - 2.0 \\cos{\\left(\\theta_{1}{\\left(t \\right)} - \\theta_{2}{\\left(t \\right)} \\right)} \\frac{d}{d t} \\theta_{2}{\\left(t \\right)} \\frac{d}{d t} \\operatorname{r_{2}}{\\left(t \\right)} - 1.0 \\cos{\\left(\\theta_{1}{\\left(t \\right)} - \\theta_{2}{\\left(t \\right)} \\right)} \\frac{d^{2}}{d t^{2}} \\theta_{2}{\\left(t \\right)} - 4.0 \\frac{d}{d t} \\theta_{1}{\\left(t \\right)} \\frac{d}{d t} \\operatorname{r_{1}}{\\left(t \\right)} - 2.0 \\frac{d^{2}}{d t^{2}} \\theta_{1}{\\left(t \\right)}\\right)$",
            "text/plain": [
              "m*(2.0*g*r_1(t)*cos(\\theta_1(t)) + 2.0*g*cos(\\theta_1(t)) - 2.0*r_1(t)**2*Derivative(\\theta_1(t), (t, 2)) - 1.0*r_1(t)*r_2(t)*sin(\\theta_1(t) - \\theta_2(t))*Derivative(\\theta_2(t), t)**2 - 1.0*r_1(t)*r_2(t)*cos(\\theta_1(t) - \\theta_2(t))*Derivative(\\theta_2(t), (t, 2)) - 1.0*r_1(t)*sin(\\theta_1(t) - \\theta_2(t))*Derivative(\\theta_2(t), t)**2 + 1.0*r_1(t)*sin(\\theta_1(t) - \\theta_2(t))*Derivative(r_2(t), (t, 2)) - 2.0*r_1(t)*cos(\\theta_1(t) - \\theta_2(t))*Derivative(\\theta_2(t), t)*Derivative(r_2(t), t) - 1.0*r_1(t)*cos(\\theta_1(t) - \\theta_2(t))*Derivative(\\theta_2(t), (t, 2)) - 4.0*r_1(t)*Derivative(\\theta_1(t), t)*Derivative(r_1(t), t) - 4.0*r_1(t)*Derivative(\\theta_1(t), (t, 2)) - 1.0*r_2(t)*sin(\\theta_1(t) - \\theta_2(t))*Derivative(\\theta_2(t), t)**2 - 1.0*r_2(t)*cos(\\theta_1(t) - \\theta_2(t))*Derivative(\\theta_2(t), (t, 2)) - 1.0*sin(\\theta_1(t) - \\theta_2(t))*Derivative(\\theta_2(t), t)**2 + 1.0*sin(\\theta_1(t) - \\theta_2(t))*Derivative(r_2(t), (t, 2)) - 2.0*cos(\\theta_1(t) - \\theta_2(t))*Derivative(\\theta_2(t), t)*Derivative(r_2(t), t) - 1.0*cos(\\theta_1(t) - \\theta_2(t))*Derivative(\\theta_2(t), (t, 2)) - 4.0*Derivative(\\theta_1(t), t)*Derivative(r_1(t), t) - 2.0*Derivative(\\theta_1(t), (t, 2)))"
            ]
          },
          "metadata": {},
          "execution_count": 11
        }
      ]
    },
    {
      "cell_type": "markdown",
      "metadata": {
        "id": "fcpArHvMPQrZ"
      },
      "source": [
        "If we solve for $d^2 z / d t^2$ where $z$ is each of $\\theta_1$, $r_1$, $\\theta_2$, $r_2$ then we can get two equation for each free variable. Defining $v_z$ as $dz/dt$ we get\n",
        "\n",
        "* $dz/dt = v_z$\n",
        "* $dv_z/dt = \\text{whatever we solved for}$\n",
        "\n",
        "This turns our system of second order ODES into systems 1D differential equations.\n",
        "\n",
        "**Example** $\\frac{d^2 y}{dt^2} + 2\\frac{dy}{dt} + y + 3 = 0$ (define $v = dy/dt$) gets turned into the system of 2 first order DE's (i) $dy/dt = v$ and  (ii) $dv/dt =  - 3 - y - 2v$\n",
        "\n",
        "Specifically, define \n",
        "\n",
        "* $\\omega_1 \\equiv d\\theta_1/dt$\n",
        "* $\\omega_2 \\equiv d\\theta_2/dt$\n",
        "* $v_1 \\equiv dr_1/dt$\n",
        "* $v_2 \\equiv dr_2/dt$"
      ]
    },
    {
      "cell_type": "code",
      "metadata": {
        "id": "uQI03Sg5PQra"
      },
      "source": [
        "sols = smp.solve([LE1, LE2, LE3, LE4], (the1_dd, the2_dd, r1_dd, r2_dd),\n",
        "                simplify=True, rational=False)"
      ],
      "execution_count": null,
      "outputs": []
    },
    {
      "cell_type": "code",
      "metadata": {
        "colab": {
          "base_uri": "https://localhost:8080/",
          "height": 61
        },
        "id": "4yDmS96WPQra",
        "outputId": "897e5166-4e4d-4ff1-a269-ffd9142f4a0a"
      },
      "source": [
        "sols[the1_dd]"
      ],
      "execution_count": null,
      "outputs": [
        {
          "output_type": "execute_result",
          "data": {
            "text/latex": "$\\displaystyle \\frac{1.0 g m \\cos{\\left(\\theta_{1}{\\left(t \\right)} \\right)} - 1.0 k \\operatorname{r_{2}}{\\left(t \\right)} \\sin{\\left(\\theta_{1}{\\left(t \\right)} - \\theta_{2}{\\left(t \\right)} \\right)} - 2.0 m \\frac{d}{d t} \\theta_{1}{\\left(t \\right)} \\frac{d}{d t} \\operatorname{r_{1}}{\\left(t \\right)}}{m \\left(\\operatorname{r_{1}}{\\left(t \\right)} + 1\\right)}$",
            "text/plain": [
              "(1.0*g*m*cos(\\theta_1(t)) - 1.0*k*r_2(t)*sin(\\theta_1(t) - \\theta_2(t)) - 2.0*m*Derivative(\\theta_1(t), t)*Derivative(r_1(t), t))/(m*(r_1(t) + 1))"
            ]
          },
          "metadata": {},
          "execution_count": 13
        }
      ]
    },
    {
      "cell_type": "markdown",
      "metadata": {
        "id": "lFVeSXMiPQrb"
      },
      "source": [
        "Create numpy functions that we can use with numerical methods"
      ]
    },
    {
      "cell_type": "code",
      "metadata": {
        "id": "HEvundIRPQrb"
      },
      "source": [
        "dw1dt_f = smp.lambdify((m, k ,g, the1, the2, r1, r2, the1_d, the2_d, r1_d, r2_d), sols[the1_dd])\n",
        "dthe1dt_f = smp.lambdify(the1_d, the1_d)\n",
        "\n",
        "dw2dt_f = smp.lambdify((m, k ,g, the1, the2, r1, r2, the1_d, the2_d, r1_d, r2_d), sols[the2_dd])\n",
        "dthe2dt_f = smp.lambdify(the2_d, the2_d)\n",
        "\n",
        "dv1dt_f = smp.lambdify((m, k ,g, the1, the2, r1, r2, the1_d, the2_d, r1_d, r2_d), sols[r1_dd])\n",
        "dr1dt_f = smp.lambdify(r1_d, r1_d)\n",
        "\n",
        "dv2dt_f = smp.lambdify((m, k ,g, the1, the2, r1, r2, the1_d, the2_d, r1_d, r2_d), sols[r2_dd])\n",
        "dr2dt_f = smp.lambdify(r2_d, r2_d)"
      ],
      "execution_count": null,
      "outputs": []
    },
    {
      "cell_type": "markdown",
      "metadata": {
        "id": "6L3UzA9RPQrc"
      },
      "source": [
        "Define our system of ODES where $S = (\\theta_1, \\omega_1, \\theta_2, \\omega_2, r_1, v_1, r_2, v_2)$"
      ]
    },
    {
      "cell_type": "code",
      "metadata": {
        "id": "Xz-eMPeIPQrc"
      },
      "source": [
        "def dSdt(S, t):\n",
        "    the1, w1, the2, w2, r1, v1, r2, v2 = S\n",
        "    return [\n",
        "        dthe1dt_f(w1),\n",
        "        dw1dt_f(m,k,g,the1,the2,r1,r2,w1,w2,v1,v2),\n",
        "        dthe2dt_f(w2),\n",
        "        dw2dt_f(m,k,g,the1,the2,r1,r2,w1,w2,v1,v2),\n",
        "        dr1dt_f(v1),\n",
        "        dv1dt_f(m,k,g,the1,the2,r1,r2,w1,w2,v1,v2),\n",
        "        dr2dt_f(v2),\n",
        "        dv2dt_f(m,k,g,the1,the2,r1,r2,w1,w2,v1,v2),\n",
        "    ]"
      ],
      "execution_count": null,
      "outputs": []
    },
    {
      "cell_type": "markdown",
      "metadata": {
        "id": "IsaFEIUePQrd"
      },
      "source": [
        "Define times, constants, solve ODE"
      ]
    },
    {
      "cell_type": "code",
      "metadata": {
        "id": "MXZ_8D7BPQrd"
      },
      "source": [
        "t = np.linspace(0, 20, 1000)\n",
        "g = 9.81\n",
        "m=1\n",
        "k=10\n",
        "ans = odeint(dSdt, y0=[np.pi/2,0,(3/2)*np.pi/2,0,0,5,0,5], t=t)"
      ],
      "execution_count": null,
      "outputs": []
    },
    {
      "cell_type": "markdown",
      "metadata": {
        "id": "RwyZ29BPPQrd"
      },
      "source": [
        "Plot $\\theta_1$ as function of time"
      ]
    },
    {
      "cell_type": "code",
      "metadata": {
        "colab": {
          "base_uri": "https://localhost:8080/",
          "height": 282
        },
        "id": "YG9KIaEcPQrd",
        "outputId": "887da452-7735-4dd7-cb7d-bf51ef727458"
      },
      "source": [
        "plt.plot(ans.T[0])"
      ],
      "execution_count": null,
      "outputs": [
        {
          "output_type": "execute_result",
          "data": {
            "text/plain": [
              "[<matplotlib.lines.Line2D at 0x7f084c469090>]"
            ]
          },
          "metadata": {},
          "execution_count": 17
        },
        {
          "output_type": "display_data",
          "data": {
            "image/png": "[encoded data removed]",
            "text/plain": [
              "<Figure size 432x288 with 1 Axes>"
            ]
          },
          "metadata": {
            "needs_background": "light"
          }
        }
      ]
    },
    {
      "cell_type": "markdown",
      "metadata": {
        "id": "yyTWN2OYPQre"
      },
      "source": [
        "Get locations of $x_1$, $y_1$, $x_2$, $y_2$ given $\\theta_1$, $r_1$, $\\theta_2$, $r_2$"
      ]
    },
    {
      "cell_type": "code",
      "metadata": {
        "id": "jwH48UNaPQre"
      },
      "source": [
        "def get_x1y1x2y2(the1, the2, r1, r2):\n",
        "    return ((1+r1)*np.cos(the1),\n",
        "            -(1+r1)*np.sin(the1),\n",
        "            (1+r1)*np.cos(the1) + (1+r2)*np.cos(the2),\n",
        "            -(1+r1)*np.sin(the1)-(1+r2)*np.sin(the2)\n",
        "    )"
      ],
      "execution_count": null,
      "outputs": []
    },
    {
      "cell_type": "markdown",
      "metadata": {
        "id": "fKeUVRjKPQrf"
      },
      "source": [
        "Get $x$s and $y$s as function of time"
      ]
    },
    {
      "cell_type": "code",
      "metadata": {
        "id": "it8p2aY5PQrf"
      },
      "source": [
        "x1, y1, x2, y2 = get_x1y1x2y2(ans.T[0], ans.T[2], ans.T[4], ans.T[6])"
      ],
      "execution_count": null,
      "outputs": []
    },
    {
      "cell_type": "markdown",
      "metadata": {
        "id": "bbJwzgx3PQrf"
      },
      "source": [
        "Plot ys"
      ]
    },
    {
      "cell_type": "code",
      "metadata": {
        "colab": {
          "base_uri": "https://localhost:8080/",
          "height": 282
        },
        "id": "SG6dX4NyPQrg",
        "outputId": "839f1171-478f-4be1-efd1-5d8cf654c92a"
      },
      "source": [
        "plt.plot(y1)"
      ],
      "execution_count": null,
      "outputs": [
        {
          "output_type": "execute_result",
          "data": {
            "text/plain": [
              "[<matplotlib.lines.Line2D at 0x7f084c45c590>]"
            ]
          },
          "metadata": {},
          "execution_count": 20
        },
        {
          "output_type": "display_data",
          "data": {
            "image/png": "[encoded data removed]",
            "text/plain": [
              "<Figure size 432x288 with 1 Axes>"
            ]
          },
          "metadata": {
            "needs_background": "light"
          }
        }
      ]
    },
    {
      "cell_type": "markdown",
      "metadata": {
        "id": "RMFEbDyuPQrh"
      },
      "source": [
        "Make animation "
      ]
    },
    {
      "cell_type": "code",
      "metadata": {
        "colab": {
          "base_uri": "https://localhost:8080/",
          "height": 487
        },
        "id": "80-6nZGcPQri",
        "outputId": "a095f1d6-8fea-4478-8a5b-e7e2b31cff18"
      },
      "source": [
        "def animate(i):\n",
        "    ln1.set_data([0, x1[i], x2[i]], [0, y1[i], y2[i]])\n",
        "    \n",
        "fig, ax = plt.subplots(1,1, figsize=(8,8))\n",
        "ax.grid()\n",
        "ln1, = plt.plot([], [], 'ro--', lw=3, markersize=8)\n",
        "ax.set_ylim(-10, 10)\n",
        "ax.set_xlim(-10,10)\n",
        "ani = animation.FuncAnimation(fig, animate, frames=500, interval=50)\n",
        "ani.save('pen.gif',writer='pillow',fps=50)"
      ],
      "execution_count": null,
      "outputs": [
        {
          "output_type": "display_data",
          "data": {
            "image/png": "[encoded data removed]",
            "text/plain": [
              "<Figure size 576x576 with 1 Axes>"
            ]
          },
          "metadata": {
            "needs_background": "light"
          }
        }
      ]
    },
    {
      "cell_type": "code",
      "metadata": {
        "id": "9ZOOsGCnPQrk"
      },
      "source": [
        ""
      ],
      "execution_count": null,
      "outputs": []
    }
  ]
}